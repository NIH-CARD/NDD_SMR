{
 "cells": [
  {
   "cell_type": "markdown",
   "id": "d6938e90-7a24-4b9a-a795-314e9714a42b",
   "metadata": {},
   "source": [
    "# SMR\n",
    "- Based on SMR_template.txt\n",
    "- run updated v8 GTEx on all Summary Statistics (including new BD summary statistics)\n",
    "- automate swarm creation"
   ]
  },
  {
   "cell_type": "code",
   "execution_count": null,
   "id": "25b21697-7612-45a1-83e7-e4ae100f17cf",
   "metadata": {},
   "outputs": [],
   "source": [
    "import zipfile\n",
    "import pandas as pd\n",
    "import os\n",
    "import glob\n",
    "import numpy as np\n",
    "import scipy\n",
    "from scipy.stats import norm\n",
    "import sys\n",
    "import subprocess"
   ]
  },
  {
   "cell_type": "code",
   "execution_count": 11,
   "id": "17253793-86a8-4c15-9652-b687062fe3fb",
   "metadata": {},
   "outputs": [],
   "source": [
    "def shell_do(command, log=False, return_log=False, make_part=False):\n",
    "    print(f'Executing: {(\" \").join(command.split())}', file=sys.stderr)\n",
    "\n",
    "    if make_part == False:\n",
    "        res = subprocess.run(command.split(), stdout=subprocess.PIPE)\n",
    "    else:\n",
    "        res = subprocess.run(command, shell=True, stdout=subprocess.PIPE)"
   ]
  },
  {
   "cell_type": "code",
   "execution_count": 15,
   "id": "30e1a2c9-4d3e-4254-a77c-13f7895808e9",
   "metadata": {},
   "outputs": [],
   "source": [
    "def SMR(disease, stats_path, work_dir, out_dir):\n",
    "    with open(f'.../omicSynth/v8/swarms/{disease}.SMR_swarm', 'w') as f:\n",
    "        f.write('cd .../omicSynth/v8/intermediate_results/ \\n')\n",
    "        f.write('module load SMR \\n')\n",
    "        f.write('\\n')\n",
    "        f.write('\\n')\n",
    "        f.write('# Single file per assay starts here. \\n')\n",
    "        f.write('\\n')\n",
    "        f.write('## expression_blood_eQTLgen ## \\n')\n",
    "        f.write(f'smr --gwas-summary {stats_path} --beqtl-summary {work_dir}/SMR_omics/eQTLs/eQTLgen/cis-eQTLs-full_eQTLGen_AF_incl_nr_formatted_20191212.new.txt_besd-dense --ld-upper-limit --out {out_dir}/{disease}_expression_blood_eQTLgen_SMR_allChrs --bfile .../omicSynth/additional_reference_data/1KG_and_refFlats/1kgenomes/1kg_eur_1pct_ref_panel --smr-multi \\n')\n",
    "        f.write(' \\n')\n",
    "        f.write('## expression_brain_eMeta ## \\n')\n",
    "        f.write(f'smr --gwas-summary {stats_path} --beqtl-summary {work_dir}/SMR_omics/eQTLs/Brain-eMeta/Brain-eMeta --ld-upper-limit --out {out_dir}/{disease}_expression_brain_eMeta_SMR_allChrs --bfile .../omicSynth/additional_reference_data/1KG_and_refFlats/1kgenomes/1kg_eur_1pct_ref_panel --smr-multi \\n')\n",
    "        f.write(' \\n')\n",
    "        f.write('## methylation_brain_mMeta ## \\n')\n",
    "        f.write(f'smr --gwas-summary {stats_path} --beqtl-summary {work_dir}/SMR_omics/regQTLs/Brain-mMeta/Brain-mMeta --ld-upper-limit --out {out_dir}/{disease}_methylation_brain_mMeta_SMR_allChrs --bfile .../omicSynth/additional_reference_data/1KG_and_refFlats/1kgenomes/1kg_eur_1pct_ref_panel --smr-multi \\n')\n",
    "        f.write('## chromatin_blood_Bryois ## \\n')\n",
    "        f.write(f'smr --gwas-summary {stats_path} --beqtl-summary {work_dir}/SMR_omics/regQTLs/Bryois_caQTLs/bryois_NatCommun_2018_50kb_cQTLs --ld-upper-limit --out {out_dir}/{disease}_chromatin_blood_Bryois_SMR_allChrs --bfile .../omicSynth/additional_reference_data/1KG_and_refFlats/1kgenomes/1kg_eur_1pct_ref_panel --smr-multi \\n')\n",
    "        f.write(' \\n')\n",
    "        f.write('# Multi chromsome reference data starts here. \\n')\n",
    "        f.write(' \\n')\n",
    "        \n",
    "        f.write('## methylation_blood_mcrae ## \\n')\n",
    "        for i in range(1,23): \n",
    "            f.write(f'smr --gwas-summary {stats_path} --beqtl-summary {work_dir}/SMR_omics/regQTLs/Blood-mMeta/bl_mqtl_lite_chr{i} --out {out_dir}/{disease}_methylation_blood_mcrae_SMR_chr{i} --bfile .../omicSynth/additional_reference_data/1KG_and_refFlats/1kgenomes/1kg_eur_1pct_ref_panel --smr-multi \\n')\n",
    "        f.close()\n",
    "    \n",
    "    # swarm command\n",
    "    cmd = f'swarm -b 15 -f .../omicSynth/v8/swarms/{disease}.SMR_swarm -g 48 -t 12 --logdir .../omicSynth/v8/swarms --module SMR'\n",
    "    \n",
    "    shell_do(cmd)\n",
    "\n",
    "def SMR_meta(disease, stats_path, work_dir, out_dir):\n",
    "    with open(f'.../omicSynth/v8/swarms/{disease}_meta.SMR_swarm', 'w') as f:\n",
    "        f.write('cd .../omicSynth/intermediate_results/ \\n')\n",
    "        f.write('module load SMR \\n')\n",
    "        f.write('\\n')\n",
    "        f.write('\\n')\n",
    "        f.write('# Multi chromsome reference data starts here. \\n')\n",
    "        f.write(' \\n')\n",
    "        \n",
    "        f.write('## expression_basalganglia_metaBrain ## \\n')\n",
    "        for i in range(1,23):\n",
    "            f.write(f'smr --gwas-summary {stats_path} --beqtl-summary {work_dir}/SMR_omics/eQTLs/2020-05-26-Basalganglia-EUR/2020-05-26-Basalganglia-EUR-{i}-SMR-besd --out {out_dir}/{disease}_expression_Basalganglia_metaBrain_SMR_chr{i} --bfile .../omicSynth/additional_reference_data/1KG_and_refFlats/1kgenomes/1kg_eur_1pct_ref_panel_gr38_metaBrain_variant_names --smr-multi \\n')\n",
    "        f.write(' \\n')\n",
    "\n",
    "        f.write('## expression_cerebellum_metaBrain ## \\n')\n",
    "        for i in range(1,23):\n",
    "            f.write(f'smr --gwas-summary {stats_path} --beqtl-summary {work_dir}/SMR_omics/eQTLs/2020-05-26-Cerebellum-EUR/2020-05-26-Cerebellum-EUR-{i}-SMR-besd --out {out_dir}/{disease}_expression_Cerebellum_metaBrain_SMR_chr{i} --bfile .../omicSynth/additional_reference_data/1KG_and_refFlats/1kgenomes/1kg_eur_1pct_ref_panel_gr38_metaBrain_variant_names --smr-multi \\n')\n",
    "        f.write(' \\n')\n",
    "\n",
    "        f.write('## expression_cortex_metaBrain ## \\n')\n",
    "        for i in range(1,23):    \n",
    "            f.write(f'smr --gwas-summary {stats_path} --beqtl-summary {work_dir}/SMR_omics/eQTLs/2020-05-26-Cortex-EUR/2020-05-26-Cortex-EUR-{i}-SMR-besd --out {out_dir}/{disease}_expression_Cortex_metaBrain_SMR_chr{i} --bfile .../omicSynth/additional_reference_data/1KG_and_refFlats/1kgenomes/1kg_eur_1pct_ref_panel_gr38_metaBrain_variant_names --smr-multi \\n')\n",
    "        f.write(' \\n')\n",
    "\n",
    "        f.write('## expression_hippocampus_metaBrain ## \\n')\n",
    "        for i in range(1,23):  \n",
    "            f.write(f'smr --gwas-summary {stats_path} --beqtl-summary {work_dir}/SMR_omics/eQTLs/2020-05-26-Hippocampus-EUR/2020-05-26-Hippocampus-EUR-{i}-SMR-besd --out {out_dir}/{disease}_expression_Hippocampus_metaBrain_SMR_chr{i} --bfile .../omicSynth/additional_reference_data/1KG_and_refFlats/1kgenomes/1kg_eur_1pct_ref_panel_gr38_metaBrain_variant_names --smr-multi \\n')\n",
    "        f.write(' \\n')\n",
    "\n",
    "        f.write('## expression_spinalchord_metaBrain ## \\n')\n",
    "        for i in range(1,23): \n",
    "            f.write(f'smr --gwas-summary {stats_path} --beqtl-summary {work_dir}/SMR_omics/eQTLs/2020-05-26-Spinalcord-EUR/2020-05-26-Spinalcord-EUR-{i}-SMR-besd --out {out_dir}/{disease}_expression_Spinalcord_metaBrain_SMR_chr{i} --bfile .../omicSynth/additional_reference_data/1KG_and_refFlats/1kgenomes/1kg_eur_1pct_ref_panel_gr38_metaBrain_variant_names --smr-multi \\n')\n",
    "        f.write(' \\n')\n",
    "        f.close()\n",
    "        \n",
    "    # swarm command\n",
    "    cmd = f'swarm -b 15 -f .../omicSynth/v8/swarms/{disease}_meta.SMR_swarm -g 48 -t 12 --logdir .../omicSynth/v8/swarms --module SMR'\n",
    "\n",
    "    shell_do(cmd)\n",
    "\n",
    "def SMR_gtex(disease, stats_path, work_dir, out_dir, gtex_list):\n",
    "    with open(f'.../omicSynth/v8/swarms/{disease}_gtex.SMR_swarm', 'w') as f:\n",
    "        f.write('cd .../micSynth/v8/intermediate_results/ \\n')\n",
    "        f.write('module load SMR \\n')\n",
    "        f.write('\\n')\n",
    "        f.write('\\n')\n",
    "        f.write('# expression_GTEx \\n')\n",
    "        f.write(' \\n')\n",
    "\n",
    "        for part in gtex_list:\n",
    "            f.write(f'smr --gwas-summary {stats_path} --beqtl-summary .../omicSynth/SMR_omics/eQTLs/GTEx_v8/eQTL_besd_lite/{part} --out {out_dir}/{disease}_expression_{part}_GTEx_SMR_allChrs --bfile .../omicSynth/additional_reference_data/1KG_and_refFlats/1kgenomes/1kg_eur_1pct_ref_panel  --smr-multi \\n')\n",
    "            \n",
    "        f.close()\n",
    "        \n",
    "    # swarm command\n",
    "    cmd = f'swarm -b 15 -f .../omicSynth/v8/swarms/{disease}_gtex.SMR_swarm -g 48 -t 12 --logdir .../omicSynth/v8/swarms --module SMR'\n",
    "\n",
    "    shell_do(cmd)\n",
    "\n",
    "def SMR_psych(disease, stats_path, work_dir, out_dir):\n",
    "    with open(f'.../omicSynth/v8/swarms/{disease}_psych.SMR_swarm', 'w') as f:\n",
    "        f.write('module load SMR \\n')\n",
    "        f.write('\\n')\n",
    "        f.write('\\n')\n",
    "        f.write('# Single file per assay starts here. \\n')\n",
    "        f.write('\\n')\n",
    "        f.write('## expression_psychencode prefrontal cortex ## \\n')\n",
    "        f.write(f'smr --gwas-summary {stats_path} --beqtl-summary .../omicSynth/SMR_omics/eQTLs/PsychEncode/DER-08a_hg19_eQTL.significant --out {out_dir}/{disease}_expression_psychEncode_prefrontal_cortex_SMR_allChrs --bfile .../omicSynth/additional_reference_data/1KG_and_refFlats/1kgenomes/1kg_eur_1pct_ref_panel --smr-multi \\n')\n",
    "        f.write(' \\n')\n",
    "    \n",
    "    # swarm command\n",
    "    cmd = f'swarm -b 20 -f ...//omicSynth/v8/swarms/{disease}_psych.SMR_swarm -g 48 --logdir .../omicSynth/v8/swarms --time=12:00:00 --module SMR'\n",
    "    \n",
    "    shell_do(cmd)\n",
    "\n",
    "def SMR_pQTL(disease, stats_path, work_dir, out_dir):\n",
    "    with open(f'.../omicSynth/v8/swarms/{disease}_atlas.SMR_swarm', 'w') as f:\n",
    "        f.write('module load SMR \\n')\n",
    "        f.write('\\n')\n",
    "        f.write('\\n')\n",
    "        f.write('# Single file per assay starts here. \\n')\n",
    "        f.write('\\n')\n",
    "        f.write('## pQTL CSF ## \\n')\n",
    "        f.write(f'smr --gwas-summary {stats_path} --beqtl-summary .../omicSynth/SMR_omics/pQTLs/atlas/csf_atlas_update --out {out_dir}/{disease}_pQTL_csf_SMR_allChrs --bfile .../additional_reference_data/1KG_and_refFlats/1kgenomes/1kg_eur_1pct_ref_panel --smr-multi \\n')\n",
    "        f.write(' \\n')\n",
    "        f.write('## pQTL plasma ## \\n')\n",
    "        f.write(f'smr --gwas-summary {stats_path} --beqtl-summary .../omicSynth/SMR_omics/pQTLs/atlas/plasma_atlas_update --out {out_dir}/{disease}_pQTL_plasma_SMR_allChrs --bfile .../omicSynth/additional_reference_data/1KG_and_refFlats/1kgenomes/1kg_eur_1pct_ref_panel --smr-multi \\n')\n",
    "        f.write(' \\n')\n",
    "        f.write('## pQTL brain ## \\n')\n",
    "        f.write(f'smr --gwas-summary {stats_path} --beqtl-summary .../omicSynth/SMR_omics/pQTLs/atlas/brain_atlas_update --out {out_dir}/{disease}_pQTL_brain_SMR_allChrs --bfile .../omicSynth/additional_reference_data/1KG_and_refFlats/1kgenomes/1kg_eur_1pct_ref_panel --smr-multi \\n')\n",
    "        f.write(' \\n')\n",
    "    \n",
    "    # swarm command\n",
    "    cmd = f'swarm -b 20 -f .../omicSynth/v8/swarms/{disease}_atlas.SMR_swarm -g 48 --logdir .../omicSynth/v8/swarms --time=12:00:00 --module SMR'\n",
    "    \n",
    "    shell_do(cmd)\n",
    "\n",
    "def SMR_eQTL(disease, stats_path, work_dir, out_dir):\n",
    "    with open(f'.../omicSynth/v8/swarms/{disease}_multiancestry.SMR_swarm', 'w') as f:\n",
    "        f.write('module load SMR \\n')\n",
    "        f.write('\\n')\n",
    "        f.write('\\n')\n",
    "        f.write('# Single file per assay starts here. \\n')\n",
    "        f.write('\\n')\n",
    "        f.write('## eQTL multi ancestry ## \\n')\n",
    "        f.write(f'smr --gwas-summary {stats_path} --beqtl-summary .../omicSynth/SMR_omics/eQTLs/multiancestry/multi_ancestry_eqtl --out {out_dir}/{disease}_eQTL_multiancestry_SMR_allChrs --bfile .../omicSynth/additional_reference_data/1KG_and_refFlats/1kgenomes/1kg_eur_1pct_ref_panel --smr-multi \\n')\n",
    "        f.write(' \\n')\n",
    "\n",
    "    # swarm command\n",
    "    cmd = f'swarm -b 20 -f .../omicSynth/v8/swarms/{disease}_multiancestry.SMR_swarm -g 48 --logdir .../omicSynth/v8/swarms --time=12:00:00 --module SMR'\n",
    "    \n",
    "    shell_do(cmd)\n",
    "\n",
    "def SMR_eqtlGen(disease, stats_path, work_dir, out_dir):\n",
    "    with open(f'.../omicSynth/v8/swarms/{disease}_eqtlgen.SMR_swarm', 'w') as f:\n",
    "        f.write('cd .../omicSynth/v8/intermediate_results/ \\n')\n",
    "        f.write('module load SMR \\n')\n",
    "        f.write('\\n')\n",
    "        f.write('\\n')\n",
    "        f.write('# Single file per assay starts here. \\n')\n",
    "        f.write('\\n')\n",
    "        f.write('## expression_blood_eQTLgen ## \\n')\n",
    "        f.write(f'smr --gwas-summary {stats_path} --beqtl-summary {work_dir}/SMR_omics/eQTLs/eQTLgen/cis-eQTLs-full_eQTLGen_AF_incl_nr_formatted_20191212.new.txt_besd-dense --out {out_dir}/{disease}_expression_blood_eQTLgen_SMR_allChrs --bfile .../omicSynth/additional_reference_data/1KG_and_refFlats/1kgenomes/1kg_eur_1pct_ref_panel --smr-multi \\n')\n",
    "        f.write(' \\n')\n",
    "        f.close()\n",
    "    \n",
    "    # swarm command\n",
    "    cmd = f'swarm -b 15 -f .../omicSynth/v8/swarms/{disease}_eqtlgen.SMR_swarm -g 48 -t 12 --logdir .../omicSynth/v8/swarms --module SMR'\n",
    "    \n",
    "    shell_do(cmd)"
   ]
  },
  {
   "cell_type": "code",
   "execution_count": 3,
   "id": "9f908c47-5a9f-44cf-b440-6605e511b8b4",
   "metadata": {},
   "outputs": [],
   "source": [
    "v8_GTEx_path = '.../omicSynth/SMR_omics/eQTLs/GTEx_v8/eQTL_besd_lite/'\n",
    "\n",
    "# define remaining paths\n",
    "out_dir = '.../omicSynth/v8/intermediate_results'\n",
    "work_dir = '.../omicSynth'"
   ]
  },
  {
   "cell_type": "markdown",
   "id": "a2728cb2-ef58-45da-a445-dd93de07bd80",
   "metadata": {},
   "source": [
    "## All Diseases"
   ]
  },
  {
   "cell_type": "markdown",
   "id": "c130f755-4077-46ba-b6ec-23894f70d567",
   "metadata": {},
   "source": [
    "### Data Prep"
   ]
  },
  {
   "cell_type": "code",
   "execution_count": 4,
   "id": "83e9eb41-416b-4ea9-a2df-94e3edccca32",
   "metadata": {},
   "outputs": [],
   "source": [
    "# pull all GTEx paths\n",
    "gtex_raw = glob.glob(f'{v8_GTEx_path}/*') \n",
    "\n",
    "gtex_short = [] # list to hold gtex tissue names\n",
    "for x in gtex_raw:\n",
    "    short_dx = x.split('/')[-1].rsplit('.',1)[0] # strip path to obtain the tissue name\n",
    "    if short_dx not in gtex_short:\n",
    "        gtex_short.append(short_dx)"
   ]
  },
  {
   "cell_type": "code",
   "execution_count": 5,
   "id": "f5ad824d-e1cb-4073-9451-63398d8d3fd6",
   "metadata": {},
   "outputs": [],
   "source": [
    "dx_list = glob.glob('.../omicSynth/outcome_summary_stats/*.ma') # paths so we can list out names of diseases we have sum stats for\n",
    "dx_clean = [] \n",
    "for x in dx_list:\n",
    "    if 'metaBrain' not in x:\n",
    "        dx_clean.append(x.split('/')[-1].rsplit('.')[0]) # strip for disease name\n",
    "dx_clean.sort() # sort list of diseases in alphabetical order\n",
    "dx_sum = dx_clean[1:] # cut off AD since we have different stats to use\n",
    "dx_sum38 = dx_sum.copy()\n",
    "dx_sum.remove('LBD') # remove LBD to use different stats\n",
    "dx_sum.remove('FTDold') # remove old FTD sum stats "
   ]
  },
  {
   "cell_type": "code",
   "execution_count": 6,
   "id": "e6529aaf-e96f-415a-9a57-1e6b932805a5",
   "metadata": {},
   "outputs": [],
   "source": [
    "# sumstats gr37\n",
    "sumstats_ad = '.../omicSynth/intermediate_results_AD_bellenguez/AD_hg19_smr.txt'\n",
    "sumstats_bd = '.../omicSynth/intermediate_results_BD_schiz/BDI_hg19_smr.txt'\n",
    "sumstats_lbd = '.../omicSynth/lbd_smr/LBD_37.ma'\n",
    "sumstats = []\n",
    "for x in dx_sum:\n",
    "    sumstats.append(glob.glob(f'.../omicSynth/outcome_summary_stats/{x}.ma')[0])"
   ]
  },
  {
   "cell_type": "code",
   "execution_count": 7,
   "id": "f379fe0f-e30b-4442-b256-5fa179139271",
   "metadata": {},
   "outputs": [],
   "source": [
    "# sumstats gr38\n",
    "sumstats_meta_ad = '.../omicSynth/intermediate_results_AD_bellenguez/AD_metabrain_version_smr.txt'\n",
    "sumstats_meta_bd = '.../omicSynth/intermediate_results_BD_schiz/BDI_hg38_smr.txt'\n",
    "sumstats_meta = []\n",
    "for x in dx_sum38:\n",
    "    sumstats_meta.append(glob.glob(f'.../omicSynth/outcome_summary_stats/{x}_metaBrain_gr38_edition.ma')[0])"
   ]
  },
  {
   "cell_type": "markdown",
   "id": "d1cbdb01-9304-4978-82d7-1e0a16548671",
   "metadata": {},
   "source": [
    "### GR37 Runs"
   ]
  },
  {
   "cell_type": "code",
   "execution_count": 8,
   "id": "3ce04e2c-fa33-4011-bddb-a5d34c408cc9",
   "metadata": {},
   "outputs": [],
   "source": [
    "\n",
    "\n",
    "# define remaining paths\n",
    "out_dir = '.../omicSynth/v8/inter_test'\n"
   ]
  },
  {
   "cell_type": "code",
   "execution_count": null,
   "id": "90e1c7ae-0121-40a7-a122-1197b8c94894",
   "metadata": {},
   "outputs": [],
   "source": [
    "# run SMR process for AD and BD seperate due to different summary stat paths\n",
    "SMR('AD',sumstats_ad, work_dir, out_dir)\n",
    "SMR('BD',sumstats_bd, work_dir, out_dir)\n",
    "SMR('LBD',sumstats_lbd, work_dir, out_dir)"
   ]
  },
  {
   "cell_type": "code",
   "execution_count": null,
   "id": "840b2008-e4ae-4513-8b33-db0cac877310",
   "metadata": {},
   "outputs": [],
   "source": [
    "SMR('FTD_pottier', '.../omicSynth/outcome_summary_stats/FTD_Pottier37.ma', work_dir, out_dir)"
   ]
  },
  {
   "cell_type": "code",
   "execution_count": null,
   "id": "3a4e5682-a816-46da-a9ad-bd8eed79e8d2",
   "metadata": {},
   "outputs": [],
   "source": [
    "# run for all other dx\n",
    "for dx, stat in zip(dx_sum, sumstats):\n",
    "    SMR(dx,stat, work_dir, out_dir)"
   ]
  },
  {
   "cell_type": "code",
   "execution_count": null,
   "id": "678d2256-09d6-41a9-b1f0-0688edc7674e",
   "metadata": {},
   "outputs": [],
   "source": [
    "# run SMR process for AD and BD seperate due to different summary stat paths\n",
    "SMR_gtex('AD',sumstats_ad, work_dir, out_dir, gtex_short)\n",
    "SMR_gtex('BD',sumstats_bd, work_dir, out_dir, gtex_short)"
   ]
  },
  {
   "cell_type": "code",
   "execution_count": null,
   "id": "99b0e843-f4c8-4062-afa4-fb9a73957b7a",
   "metadata": {},
   "outputs": [],
   "source": [
    "# run for all other dx\n",
    "for dx, stat in zip(dx_sum, sumstats):\n",
    "    SMR_gtex(dx,stat, work_dir, out_dir, gtex_short)"
   ]
  },
  {
   "cell_type": "code",
   "execution_count": null,
   "id": "779f62bb-a3e7-4303-9636-7a6e331f9cd2",
   "metadata": {},
   "outputs": [],
   "source": [
    "SMR_gtex('FTD_pottier', '.../omicSynth/outcome_summary_stats/FTD_Pottier37.ma', work_dir, out_dir, gtex_short)"
   ]
  },
  {
   "cell_type": "code",
   "execution_count": 13,
   "id": "30e4ec5d-5e9d-4b27-98db-f5d2806e4e5a",
   "metadata": {},
   "outputs": [],
   "source": [
    "# run SMR process for AD and BD seperate due to different summary stat paths\n",
    "SMR_psych('AD',sumstats_ad, work_dir, out_dir)\n",
    "SMR_psych('BD',sumstats_bd, work_dir, out_dir)"
   ]
  },
  {
   "cell_type": "code",
   "execution_count": null,
   "id": "9416b588-c65b-4ccd-a4d4-afdc410ae165",
   "metadata": {},
   "outputs": [],
   "source": [
    "SMR_psych('LBD',sumstats_lbd, work_dir, out_dir)"
   ]
  },
  {
   "cell_type": "code",
   "execution_count": null,
   "id": "698b432b-231f-4389-bd1f-7f9657f58f77",
   "metadata": {},
   "outputs": [],
   "source": [
    "SMR_psych('PSP', sumstats[-4], work_dir, out_dir)"
   ]
  },
  {
   "cell_type": "code",
   "execution_count": null,
   "id": "719acc88-7d26-458a-8e01-d85803e28f2e",
   "metadata": {},
   "outputs": [],
   "source": [
    "SMR_psych('FTD_pottier', '.../omicSynth/outcome_summary_stats/FTD_Pottier37.ma', work_dir, out_dir)"
   ]
  },
  {
   "cell_type": "code",
   "execution_count": null,
   "id": "af368338-d9b8-4435-a46d-836e2fce3949",
   "metadata": {},
   "outputs": [],
   "source": [
    "# run for all other dx\n",
    "for dx, stat in zip(dx_sum, sumstats):\n",
    "    SMR_psych(dx,stat, work_dir, out_dir)"
   ]
  },
  {
   "cell_type": "code",
   "execution_count": null,
   "id": "83bb6690-9558-4519-8093-fd183e37bdb6",
   "metadata": {},
   "outputs": [],
   "source": [
    "# run SMR process for AD and BD seperate due to different summary stat paths\n",
    "SMR_pQTL('AD',sumstats_ad, work_dir, out_dir)\n",
    "SMR_pQTL('BD',sumstats_bd, work_dir, out_dir)\n",
    "SMR_pQTL('LBD',sumstats_lbd, work_dir, out_dir)"
   ]
  },
  {
   "cell_type": "code",
   "execution_count": null,
   "id": "19506e6a-ecfc-4f54-9f46-9cdcceea6517",
   "metadata": {},
   "outputs": [],
   "source": [
    "SMR_pQTL('PSP', sumstats[-4], work_dir, out_dir)\n",
    "\n",
    "SMR_pQTL('FT2', '.../omicSynth/outcome_summary_stats/FTD_Pottier37.ma', work_dir, out_dir)"
   ]
  },
  {
   "cell_type": "code",
   "execution_count": null,
   "id": "dc045f58-9d43-4f90-8f59-c2fefc15e41f",
   "metadata": {},
   "outputs": [],
   "source": [
    "# run for all other dx\n",
    "for dx, stat in zip(dx_sum, sumstats):\n",
    "    SMR_pQTL(dx,stat, work_dir, out_dir)"
   ]
  },
  {
   "cell_type": "code",
   "execution_count": null,
   "id": "032fb216-9c5f-43d0-8ee0-a01656f89cc6",
   "metadata": {},
   "outputs": [],
   "source": [
    "# run SMR process for AD and BD seperate due to different summary stat paths\n",
    "SMR_eQTL('AD',sumstats_ad, work_dir, out_dir)\n",
    "SMR_eQTL('BD',sumstats_bd, work_dir, out_dir)\n",
    "SMR_eQTL('LBD',sumstats_lbd, work_dir, out_dir)"
   ]
  },
  {
   "cell_type": "code",
   "execution_count": null,
   "id": "0298f58f-5e5d-4955-bf43-e3291cb1c6aa",
   "metadata": {},
   "outputs": [],
   "source": [
    "SMR_eQTL('FTD_pottier', '.../omicSynth/outcome_summary_stats/FTD_Pottier37.ma', work_dir, out_dir)"
   ]
  },
  {
   "cell_type": "code",
   "execution_count": null,
   "id": "caaf92a9-a182-4b40-b52f-fa01e451e4d9",
   "metadata": {},
   "outputs": [],
   "source": [
    "# run for all other dx\n",
    "for dx, stat in zip(dx_sum, sumstats):\n",
    "    SMR_eQTL(dx,stat, work_dir, out_dir)"
   ]
  },
  {
   "cell_type": "code",
   "execution_count": null,
   "id": "8e9e8209-709b-4905-8707-969aeb27e1a2",
   "metadata": {},
   "outputs": [],
   "source": [
    "# run SMR process for AD and BD seperate due to different summary stat paths\n",
    "SMR_eqtlGen('AD',sumstats_ad, work_dir, out_dir)\n",
    "SMR_eqtlGen('BD',sumstats_bd, work_dir, out_dir)\n",
    "SMR_eqtlGen('LBD',sumstats_lbd, work_dir, out_dir)"
   ]
  },
  {
   "cell_type": "code",
   "execution_count": null,
   "id": "4457371d-6fbb-45d6-aa1e-8246b25f4fb6",
   "metadata": {},
   "outputs": [],
   "source": [
    "# run for all other dx\n",
    "for dx, stat in zip(dx_sum, sumstats):\n",
    "    SMR_eqtlGen(dx,stat, work_dir, out_dir)"
   ]
  },
  {
   "cell_type": "markdown",
   "id": "d38a2deb-07f1-4121-a171-0932cf48a322",
   "metadata": {},
   "source": [
    "### MetaBrain GR38 Runs"
   ]
  },
  {
   "cell_type": "code",
   "execution_count": null,
   "id": "55bd24ee-c699-4bc7-bb30-e94df86a676e",
   "metadata": {},
   "outputs": [],
   "source": [
    "# run SMR process for AD and BD seperate due to different summary stat paths\n",
    "SMR_meta('AD',sumstats_meta_ad, work_dir, out_dir)\n",
    "SMR_meta('BD',sumstats_meta_bd, work_dir, out_dir)"
   ]
  },
  {
   "cell_type": "code",
   "execution_count": null,
   "id": "848bdca5-8289-42d9-a586-4286c03c3a83",
   "metadata": {},
   "outputs": [],
   "source": [
    "SMR_meta('FTD_pottier', '.../omicSynth/outcome_summary_stats/FTD_Pottier37_metaBrain_gr38_edition.ma', work_dir, out_dir)"
   ]
  },
  {
   "cell_type": "code",
   "execution_count": null,
   "id": "881e26f0-30de-46de-9c28-9855596d6306",
   "metadata": {},
   "outputs": [],
   "source": [
    "# g38\n",
    "for dx, stat in zip(dx_sum, sumstats_meta):\n",
    "    SMR_meta(dx,stat, work_dir, out_dir)"
   ]
  }
 ],
 "metadata": {
  "kernelspec": {
   "display_name": "Python 3 (ipykernel)",
   "language": "python",
   "name": "python3"
  },
  "language_info": {
   "codemirror_mode": {
    "name": "ipython",
    "version": 3
   },
   "file_extension": ".py",
   "mimetype": "text/x-python",
   "name": "python",
   "nbconvert_exporter": "python",
   "pygments_lexer": "ipython3",
   "version": "3.9.18"
  }
 },
 "nbformat": 4,
 "nbformat_minor": 5
}
