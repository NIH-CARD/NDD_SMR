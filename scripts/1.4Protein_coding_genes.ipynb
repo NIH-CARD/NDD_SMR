{
 "cells": [
  {
   "cell_type": "markdown",
   "id": "f1afcf02-cf0a-41f2-b3b2-41b38a275ca8",
   "metadata": {},
   "source": [
    "# Protein Coding Genes \n",
    "- get gene symbols from ENSG IDs"
   ]
  },
  {
   "cell_type": "code",
   "execution_count": 1,
   "id": "f621f150-9615-416c-bd62-873c27c33200",
   "metadata": {},
   "outputs": [],
   "source": [
    "import pandas as pd\n",
    "import numpy as np\n",
    "import warnings\n",
    "warnings.simplefilter(action='ignore')\n",
    "\n",
    "import pyensembl\n",
    "from biomart import BiomartServer"
   ]
  },
  {
   "cell_type": "code",
   "execution_count": 2,
   "id": "220d789f-a7d2-4bf4-94db-223504ddc4d7",
   "metadata": {},
   "outputs": [],
   "source": [
    "# Use ensembl id or position to find gene name\n",
    "def gene_rename(df, release = 75):\n",
    "    \n",
    "    ensembl = pyensembl.EnsemblRelease(release)\n",
    "    \n",
    "    gene_list = []\n",
    "    for probe in df['Gene']:\n",
    "        # try pulling data using probeID\n",
    "        try:\n",
    "            gene_list.append(ensembl.gene_name_of_gene_id(probe))\n",
    "        except: \n",
    "            gene_list.append(\"novel_or_none\")\n",
    "        \n",
    "            \n",
    "    df['Gene_symbol'] = gene_list\n",
    "    \n",
    "    return df"
   ]
  },
  {
   "cell_type": "code",
   "execution_count": 3,
   "id": "c4931146-0872-4153-a18d-29ca003bd621",
   "metadata": {},
   "outputs": [],
   "source": [
    "# load in SMR results for NDDs\n",
    "ndd_df = pd.read_csv(\"NDD_SMR_genes.csv\")\n",
    "\n",
    "# load in druggable genome data + \n",
    "druggable_df = pd.read_csv('/../omicSynth/druggable_genome.csv', sep = ',')\n",
    "\n",
    "# read in DGIdb interactions file\n",
    "drugs_df = pd.read_csv('/../omicSynth/interactions.tsv', sep = '\\t')\n",
    "\n",
    "# ensure gene_names are all clean\n",
    "drugs_df.gene_name = drugs_df.gene_name.astype('str') # treat each anme as string even if all numbers\n",
    "drugs_df.gene_name = drugs_df.gene_name.apply(lambda x: x.strip()) # strip any leading/trailing white space\n",
    "\n",
    "# drop nans in gene_name\n",
    "drugs_df = drugs_df.query('gene_name != \"nan\"')\n",
    "\n",
    "\n",
    "# fill in any NaN bc theyre annoying\n",
    "\n",
    "drugs_df.drug_concept_id = drugs_df.drug_concept_id.fillna('none')\n",
    "\n",
    "# clean chemblid col since we need\n",
    "drugs_df['chemblid'] = drugs_df.drug_concept_id.apply(lambda x: str(x.split(':')[1]) if ':'in x else x)\n",
    "\n",
    "# remove any rows that do not have chembl id\n",
    "drugs_df_red = drugs_df.query('chemblid != \"none\"')\n",
    "\n",
    "drugs_df_red['drug_claim_primary_name'] = drugs_df_red['drug_claim_primary_name'].astype('str')\n",
    "\n",
    "drugs_df_red['drug_claim_primary_name'] = drugs_df_red['drug_claim_primary_name'].apply(lambda x: x.lower())\n",
    "\n",
    "# list of unique gene targets from drug data\n",
    "thera_genes = list(drugs_df_red['gene_name'].unique())"
   ]
  },
  {
   "cell_type": "code",
   "execution_count": 4,
   "id": "346de426-f12a-4797-8035-1449597a09b1",
   "metadata": {},
   "outputs": [
    {
     "data": {
      "text/html": [
       "<div>\n",
       "<style scoped>\n",
       "    .dataframe tbody tr th:only-of-type {\n",
       "        vertical-align: middle;\n",
       "    }\n",
       "\n",
       "    .dataframe tbody tr th {\n",
       "        vertical-align: top;\n",
       "    }\n",
       "\n",
       "    .dataframe thead th {\n",
       "        text-align: right;\n",
       "    }\n",
       "</style>\n",
       "<table border=\"1\" class=\"dataframe\">\n",
       "  <thead>\n",
       "    <tr style=\"text-align: right;\">\n",
       "      <th></th>\n",
       "      <th>Gene</th>\n",
       "    </tr>\n",
       "  </thead>\n",
       "  <tbody>\n",
       "    <tr>\n",
       "      <th>0</th>\n",
       "      <td>ENSG00000198888</td>\n",
       "    </tr>\n",
       "    <tr>\n",
       "      <th>1</th>\n",
       "      <td>ENSG00000198763</td>\n",
       "    </tr>\n",
       "    <tr>\n",
       "      <th>2</th>\n",
       "      <td>ENSG00000198804</td>\n",
       "    </tr>\n",
       "    <tr>\n",
       "      <th>3</th>\n",
       "      <td>ENSG00000198712</td>\n",
       "    </tr>\n",
       "    <tr>\n",
       "      <th>4</th>\n",
       "      <td>ENSG00000228253</td>\n",
       "    </tr>\n",
       "    <tr>\n",
       "      <th>...</th>\n",
       "      <td>...</td>\n",
       "    </tr>\n",
       "    <tr>\n",
       "      <th>22553</th>\n",
       "      <td>ENSG00000284925</td>\n",
       "    </tr>\n",
       "    <tr>\n",
       "      <th>22554</th>\n",
       "      <td>ENSG00000285044</td>\n",
       "    </tr>\n",
       "    <tr>\n",
       "      <th>22555</th>\n",
       "      <td>ENSG00000284901</td>\n",
       "    </tr>\n",
       "    <tr>\n",
       "      <th>22556</th>\n",
       "      <td>ENSG00000284869</td>\n",
       "    </tr>\n",
       "    <tr>\n",
       "      <th>22557</th>\n",
       "      <td>ENSG00000285114</td>\n",
       "    </tr>\n",
       "  </tbody>\n",
       "</table>\n",
       "<p>22558 rows × 1 columns</p>\n",
       "</div>"
      ],
      "text/plain": [
       "                  Gene\n",
       "0      ENSG00000198888\n",
       "1      ENSG00000198763\n",
       "2      ENSG00000198804\n",
       "3      ENSG00000198712\n",
       "4      ENSG00000228253\n",
       "...                ...\n",
       "22553  ENSG00000284925\n",
       "22554  ENSG00000285044\n",
       "22555  ENSG00000284901\n",
       "22556  ENSG00000284869\n",
       "22557  ENSG00000285114\n",
       "\n",
       "[22558 rows x 1 columns]"
      ]
     },
     "execution_count": 4,
     "metadata": {},
     "output_type": "execute_result"
    }
   ],
   "source": [
    "# remove non coding genes\n",
    "coding = pd.read_csv('/../omicSynth/proteincodinggenes.txt', sep = '\\s+')\n",
    "coding"
   ]
  },
  {
   "cell_type": "code",
   "execution_count": 5,
   "id": "dad0fa68-df1f-442a-98a7-b3767f185c69",
   "metadata": {},
   "outputs": [],
   "source": [
    "# need to get gene names due to mQTLs\n",
    "coding2 = gene_rename(coding, 100)"
   ]
  },
  {
   "cell_type": "code",
   "execution_count": 6,
   "id": "7fa5b41e-8150-4ac5-a4bd-fa06e53dcf7c",
   "metadata": {},
   "outputs": [
    {
     "data": {
      "text/html": [
       "<div>\n",
       "<style scoped>\n",
       "    .dataframe tbody tr th:only-of-type {\n",
       "        vertical-align: middle;\n",
       "    }\n",
       "\n",
       "    .dataframe tbody tr th {\n",
       "        vertical-align: top;\n",
       "    }\n",
       "\n",
       "    .dataframe thead th {\n",
       "        text-align: right;\n",
       "    }\n",
       "</style>\n",
       "<table border=\"1\" class=\"dataframe\">\n",
       "  <thead>\n",
       "    <tr style=\"text-align: right;\">\n",
       "      <th></th>\n",
       "      <th>Gene</th>\n",
       "      <th>Gene_symbol</th>\n",
       "    </tr>\n",
       "  </thead>\n",
       "  <tbody>\n",
       "    <tr>\n",
       "      <th>13</th>\n",
       "      <td>ENSG00000277953</td>\n",
       "      <td>novel_or_none</td>\n",
       "    </tr>\n",
       "    <tr>\n",
       "      <th>16</th>\n",
       "      <td>ENSG00000257215</td>\n",
       "      <td>novel_or_none</td>\n",
       "    </tr>\n",
       "    <tr>\n",
       "      <th>18</th>\n",
       "      <td>ENSG00000282035</td>\n",
       "      <td>novel_or_none</td>\n",
       "    </tr>\n",
       "    <tr>\n",
       "      <th>19</th>\n",
       "      <td>ENSG00000273896</td>\n",
       "      <td>novel_or_none</td>\n",
       "    </tr>\n",
       "    <tr>\n",
       "      <th>20</th>\n",
       "      <td>ENSG00000281022</td>\n",
       "      <td>novel_or_none</td>\n",
       "    </tr>\n",
       "    <tr>\n",
       "      <th>...</th>\n",
       "      <td>...</td>\n",
       "      <td>...</td>\n",
       "    </tr>\n",
       "    <tr>\n",
       "      <th>22553</th>\n",
       "      <td>ENSG00000284925</td>\n",
       "      <td>novel_or_none</td>\n",
       "    </tr>\n",
       "    <tr>\n",
       "      <th>22554</th>\n",
       "      <td>ENSG00000285044</td>\n",
       "      <td>novel_or_none</td>\n",
       "    </tr>\n",
       "    <tr>\n",
       "      <th>22555</th>\n",
       "      <td>ENSG00000284901</td>\n",
       "      <td>novel_or_none</td>\n",
       "    </tr>\n",
       "    <tr>\n",
       "      <th>22556</th>\n",
       "      <td>ENSG00000284869</td>\n",
       "      <td>novel_or_none</td>\n",
       "    </tr>\n",
       "    <tr>\n",
       "      <th>22557</th>\n",
       "      <td>ENSG00000285114</td>\n",
       "      <td>novel_or_none</td>\n",
       "    </tr>\n",
       "  </tbody>\n",
       "</table>\n",
       "<p>2825 rows × 2 columns</p>\n",
       "</div>"
      ],
      "text/plain": [
       "                  Gene    Gene_symbol\n",
       "13     ENSG00000277953  novel_or_none\n",
       "16     ENSG00000257215  novel_or_none\n",
       "18     ENSG00000282035  novel_or_none\n",
       "19     ENSG00000273896  novel_or_none\n",
       "20     ENSG00000281022  novel_or_none\n",
       "...                ...            ...\n",
       "22553  ENSG00000284925  novel_or_none\n",
       "22554  ENSG00000285044  novel_or_none\n",
       "22555  ENSG00000284901  novel_or_none\n",
       "22556  ENSG00000284869  novel_or_none\n",
       "22557  ENSG00000285114  novel_or_none\n",
       "\n",
       "[2825 rows x 2 columns]"
      ]
     },
     "execution_count": 6,
     "metadata": {},
     "output_type": "execute_result"
    }
   ],
   "source": [
    "# use biomart to find genes missing?\n",
    "coding_miss = coding2.query('Gene_symbol == \"novel_or_none\"')\n",
    "\n",
    "coding_miss"
   ]
  },
  {
   "cell_type": "code",
   "execution_count": 14,
   "id": "5ea5bbdf-6444-4cae-8a8b-77d2f1e23b86",
   "metadata": {},
   "outputs": [],
   "source": [
    "# establish db to search from biomart uses ensembl release 109\n",
    "server = BiomartServer( \"http://useast.ensembl.org/biomart\")\n",
    "\n",
    "data38 = server.databases['ENSEMBL_MART_ENSEMBL']\n",
    "hsap = server.datasets['hsapiens_gene_ensembl']\n",
    "\n",
    "# get any possible names from biomart\n",
    "probes = coding_miss.Gene.unique()\n",
    "\n",
    "gene_miss = {}\n",
    "for probe in probes:\n",
    "    search_fil = {'ensembl_gene_id': probe}\n",
    "    search_cmd = {'filters': search_fil, 'attributes': ['ensembl_gene_id', 'hgnc_symbol']}\n",
    "    response = hsap.search(search_cmd)\n",
    "    \n",
    "    try:\n",
    "        for line in response.iter_lines():\n",
    "            line = line.decode('utf-8')\n",
    "            output = line.split(\"\\t\")\n",
    "            \n",
    "            gene_miss[probe] = output[1]\n",
    "    except:\n",
    "            gene_miss[probe] = 'no_symbol'"
   ]
  },
  {
   "cell_type": "code",
   "execution_count": 23,
   "id": "f162d377-c998-44bf-906d-b718fe36b1df",
   "metadata": {},
   "outputs": [],
   "source": [
    "gene_probes_dict = {'Gene': list(gene_miss.keys()), 'Gene_symbol': list(gene_miss.values())}"
   ]
  },
  {
   "cell_type": "code",
   "execution_count": 24,
   "id": "0036d4c5-1274-4439-9762-e9106b5271cc",
   "metadata": {},
   "outputs": [
    {
     "data": {
      "text/html": [
       "<div>\n",
       "<style scoped>\n",
       "    .dataframe tbody tr th:only-of-type {\n",
       "        vertical-align: middle;\n",
       "    }\n",
       "\n",
       "    .dataframe tbody tr th {\n",
       "        vertical-align: top;\n",
       "    }\n",
       "\n",
       "    .dataframe thead th {\n",
       "        text-align: right;\n",
       "    }\n",
       "</style>\n",
       "<table border=\"1\" class=\"dataframe\">\n",
       "  <thead>\n",
       "    <tr style=\"text-align: right;\">\n",
       "      <th></th>\n",
       "      <th>Gene</th>\n",
       "      <th>Gene_symbol</th>\n",
       "    </tr>\n",
       "  </thead>\n",
       "  <tbody>\n",
       "    <tr>\n",
       "      <th>0</th>\n",
       "      <td>ENSG00000277953</td>\n",
       "      <td>PRPF31</td>\n",
       "    </tr>\n",
       "    <tr>\n",
       "      <th>1</th>\n",
       "      <td>ENSG00000257215</td>\n",
       "      <td></td>\n",
       "    </tr>\n",
       "    <tr>\n",
       "      <th>2</th>\n",
       "      <td>ENSG00000282035</td>\n",
       "      <td></td>\n",
       "    </tr>\n",
       "    <tr>\n",
       "      <th>3</th>\n",
       "      <td>ENSG00000273896</td>\n",
       "      <td>TSEN34</td>\n",
       "    </tr>\n",
       "    <tr>\n",
       "      <th>4</th>\n",
       "      <td>ENSG00000281022</td>\n",
       "      <td>MED22</td>\n",
       "    </tr>\n",
       "    <tr>\n",
       "      <th>...</th>\n",
       "      <td>...</td>\n",
       "      <td>...</td>\n",
       "    </tr>\n",
       "    <tr>\n",
       "      <th>2809</th>\n",
       "      <td>ENSG00000284925</td>\n",
       "      <td>GCSAM</td>\n",
       "    </tr>\n",
       "    <tr>\n",
       "      <th>2810</th>\n",
       "      <td>ENSG00000285044</td>\n",
       "      <td>SLC9C1</td>\n",
       "    </tr>\n",
       "    <tr>\n",
       "      <th>2811</th>\n",
       "      <td>ENSG00000284901</td>\n",
       "      <td>RUVBL1</td>\n",
       "    </tr>\n",
       "    <tr>\n",
       "      <th>2812</th>\n",
       "      <td>ENSG00000284869</td>\n",
       "      <td>EEFSEC</td>\n",
       "    </tr>\n",
       "    <tr>\n",
       "      <th>2813</th>\n",
       "      <td>ENSG00000285114</td>\n",
       "      <td>GSDMC</td>\n",
       "    </tr>\n",
       "  </tbody>\n",
       "</table>\n",
       "<p>2814 rows × 2 columns</p>\n",
       "</div>"
      ],
      "text/plain": [
       "                 Gene Gene_symbol\n",
       "0     ENSG00000277953      PRPF31\n",
       "1     ENSG00000257215            \n",
       "2     ENSG00000282035            \n",
       "3     ENSG00000273896      TSEN34\n",
       "4     ENSG00000281022       MED22\n",
       "...               ...         ...\n",
       "2809  ENSG00000284925       GCSAM\n",
       "2810  ENSG00000285044      SLC9C1\n",
       "2811  ENSG00000284901      RUVBL1\n",
       "2812  ENSG00000284869      EEFSEC\n",
       "2813  ENSG00000285114       GSDMC\n",
       "\n",
       "[2814 rows x 2 columns]"
      ]
     },
     "execution_count": 24,
     "metadata": {},
     "output_type": "execute_result"
    }
   ],
   "source": [
    "# turn dictionary into df to fill in NaN\n",
    "gene_probe_df = pd.DataFrame.from_dict(gene_probes_dict)\n",
    "gene_probe_df"
   ]
  },
  {
   "cell_type": "code",
   "execution_count": 31,
   "id": "747c26bc-c092-43e5-abbc-e40f4c211b9a",
   "metadata": {},
   "outputs": [],
   "source": [
    "# fill in missing gene symbols\n",
    "gene_probe_df.loc[gene_probe_df['Gene_symbol'] == '','Gene_symbol'] = 'novel_or_none'"
   ]
  },
  {
   "cell_type": "code",
   "execution_count": 38,
   "id": "f34414ec-cfdd-4b2e-85aa-038b8d6d36c9",
   "metadata": {},
   "outputs": [],
   "source": [
    "# turn back into dictionary\n",
    "tmp_list = zip(gene_probe_df['Gene'], gene_probe_df['Gene_symbol'])\n",
    "gene_probe_dict_clean = dict(tmp_list)"
   ]
  },
  {
   "cell_type": "code",
   "execution_count": null,
   "id": "5bd38752-081e-4ee1-9ca2-c6c6e89e60d2",
   "metadata": {},
   "outputs": [],
   "source": [
    "coding_good = coding2.query('Gene_symbol != \"novel_or_none\"')\n",
    "good_genes_dict = dict(zip(coding_good['Gene'], coding_good['Gene_symbol']))"
   ]
  },
  {
   "cell_type": "code",
   "execution_count": 42,
   "id": "eb602794-7cf7-413c-a054-7a15fc455de0",
   "metadata": {},
   "outputs": [
    {
     "data": {
      "text/plain": [
       "[]"
      ]
     },
     "execution_count": 42,
     "metadata": {},
     "output_type": "execute_result"
    }
   ],
   "source": [
    "# see if there are any common probes between the two dictionaries\n",
    "list(set(gene_probe_dict_clean.keys()).intersection(set(good_genes_dict.keys())))"
   ]
  },
  {
   "cell_type": "code",
   "execution_count": 41,
   "id": "7251e9e0-bb4e-4132-ac51-d8dc1d26364a",
   "metadata": {},
   "outputs": [],
   "source": [
    "# combine the two dictionaries into one\n",
    "final_probe_dict = {**gene_probe_dict_clean , **good_genes_dict}"
   ]
  },
  {
   "cell_type": "code",
   "execution_count": 44,
   "id": "5bce5f00-a061-49f0-9660-83e14e7b63cf",
   "metadata": {},
   "outputs": [],
   "source": [
    "# create  column to store mapped gene values\n",
    "coding['Gene_symbol'] = coding['Gene'].map(final_probe_dict)"
   ]
  },
  {
   "cell_type": "code",
   "execution_count": 46,
   "id": "ed81d343-8265-40ff-ba4a-30d15a712859",
   "metadata": {},
   "outputs": [
    {
     "data": {
      "text/plain": [
       "novel_or_none    191\n",
       "KIR3DL2           43\n",
       "KIR3DL3           42\n",
       "KIR2DL4           41\n",
       "KIR2DL1           33\n",
       "                ... \n",
       "HRH1               1\n",
       "FBXO31             1\n",
       "ITGAD              1\n",
       "AC010531.1         1\n",
       "CMKLR2             1\n",
       "Name: Gene_symbol, Length: 19772, dtype: int64"
      ]
     },
     "execution_count": 46,
     "metadata": {},
     "output_type": "execute_result"
    }
   ],
   "source": [
    "coding.Gene_symbol.value_counts()"
   ]
  },
  {
   "cell_type": "code",
   "execution_count": 47,
   "id": "07367720-27d9-4164-b4bf-f2bb4f09e661",
   "metadata": {},
   "outputs": [],
   "source": [
    "# export new protein coding lost with gene symbols\n",
    "coding.to_csv('proteincoding_genesym.csv', index = None)"
   ]
  },
  {
   "cell_type": "code",
   "execution_count": 3,
   "id": "3385a6bb-ed4e-4b7e-b762-f1bed74c4323",
   "metadata": {},
   "outputs": [],
   "source": [
    "coding = pd.read_csv('proteincoding_genesym.csv')"
   ]
  }
 ],
 "metadata": {
  "kernelspec": {
   "display_name": "python/3.8",
   "language": "python",
   "name": "py3.8"
  },
  "language_info": {
   "codemirror_mode": {
    "name": "ipython",
    "version": 3
   },
   "file_extension": ".py",
   "mimetype": "text/x-python",
   "name": "python",
   "nbconvert_exporter": "python",
   "pygments_lexer": "ipython3",
   "version": "3.8.12"
  }
 },
 "nbformat": 4,
 "nbformat_minor": 5
}
